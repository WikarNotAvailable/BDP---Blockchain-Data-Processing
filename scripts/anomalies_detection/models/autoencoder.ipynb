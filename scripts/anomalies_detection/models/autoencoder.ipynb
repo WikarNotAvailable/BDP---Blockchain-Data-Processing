{
 "cells": [
  {
   "cell_type": "code",
   "execution_count": 1,
   "metadata": {},
   "outputs": [
    {
     "name": "stdout",
     "output_type": "stream",
     "text": [
      "ERROR! Session/line number was not unique in database. History logging moved to new session 47\n"
     ]
    },
    {
     "ename": "ModuleNotFoundError",
     "evalue": "No module named 'shared'",
     "output_type": "error",
     "traceback": [
      "\u001b[1;31m---------------------------------------------------------------------------\u001b[0m",
      "\u001b[1;31mModuleNotFoundError\u001b[0m                       Traceback (most recent call last)",
      "Cell \u001b[1;32mIn[1], line 5\u001b[0m\n\u001b[0;32m      3\u001b[0m sys\u001b[38;5;241m.\u001b[39mpath\u001b[38;5;241m.\u001b[39mappend(os\u001b[38;5;241m.\u001b[39mpath\u001b[38;5;241m.\u001b[39mabspath(os\u001b[38;5;241m.\u001b[39mpath\u001b[38;5;241m.\u001b[39mjoin(\u001b[38;5;124m'\u001b[39m\u001b[38;5;124m../\u001b[39m\u001b[38;5;124m'\u001b[39m)))\n\u001b[0;32m      4\u001b[0m \u001b[38;5;28;01mfrom\u001b[39;00m \u001b[38;5;21;01mpyspark\u001b[39;00m\u001b[38;5;21;01m.\u001b[39;00m\u001b[38;5;21;01msql\u001b[39;00m \u001b[38;5;28;01mimport\u001b[39;00m SparkSession\n\u001b[1;32m----> 5\u001b[0m \u001b[38;5;28;01mfrom\u001b[39;00m \u001b[38;5;21;01mshared\u001b[39;00m\u001b[38;5;21;01m.\u001b[39;00m\u001b[38;5;21;01mschemas\u001b[39;00m \u001b[38;5;28;01mimport\u001b[39;00m ml_schema\n\u001b[0;32m      6\u001b[0m \u001b[38;5;28;01mimport\u001b[39;00m \u001b[38;5;21;01mdask\u001b[39;00m\u001b[38;5;21;01m.\u001b[39;00m\u001b[38;5;21;01mdataframe\u001b[39;00m \u001b[38;5;28;01mas\u001b[39;00m \u001b[38;5;21;01mdd\u001b[39;00m\n\u001b[0;32m      7\u001b[0m \u001b[38;5;28;01mimport\u001b[39;00m \u001b[38;5;21;01mnumpy\u001b[39;00m \u001b[38;5;28;01mas\u001b[39;00m \u001b[38;5;21;01mnp\u001b[39;00m\n",
      "\u001b[1;31mModuleNotFoundError\u001b[0m: No module named 'shared'"
     ]
    }
   ],
   "source": [
    "import sys\n",
    "import os\n",
    "sys.path.append(os.path.abspath(os.path.join('../')))\n",
    "from pyspark.sql import SparkSession\n",
    "from shared.schemas import ml_schema\n",
    "import dask.dataframe as dd\n",
    "import numpy as np\n",
    "import tensorflow as tf\n",
    "from tensorflow.keras.models import Model\n",
    "from tensorflow.keras.layers import LSTM, Dense, Input\n",
    "from sklearn.metrics import precision_recall_fscore_support, accuracy_score\n",
    "from pyspark.sql.functions import col\n",
    "\n",
    "spark = (\n",
    "    SparkSession.builder.appName(\"DataAggregations\")    \n",
    "    .config(\"spark.sql.parquet.enableVectorizedReader\", \"true\")\n",
    "    .config(\"spark.sql.parquet.mergeSchema\", \"false\") # No need as we explicitly specify the schema\n",
    "    .config(\"spark.executor.memory\", \"6g\")  # Increase executor memory\n",
    "    .config(\"spark.driver.memory\", \"2g\")    # Increase driver memory\n",
    "    #.config(\"spark.local.dir\", \"/mnt/d/spark-temp\")  # Change temp directory\n",
    "    .getOrCreate()\n",
    ")\n",
    "\n",
    "train_df = dd.read_parquet(\"../../data/historical/training/eth\")\n",
    "test_df = spark.read.schema(ml_schema).parquet(\"../../data/benchmark/testing/eth\")"
   ]
  },
  {
   "cell_type": "code",
   "execution_count": 8,
   "metadata": {},
   "outputs": [],
   "source": [
    "def create_sequences(data, seq_length):\n",
    "    sequences = []\n",
    "    for i in range(len(data) - seq_length + 1):\n",
    "        sequences.append(data[i:i + seq_length])\n",
    "    return np.array(sequences)\n",
    "\n",
    "def build_autoencoder(input_dim, seq_length):\n",
    "    inputs = Input(shape=(seq_length, input_dim))\n",
    "    encoded = LSTM(64, activation=\"relu\", return_sequences=True)(inputs)\n",
    "    encoded = LSTM(32, activation=\"relu\", return_sequences=False)(encoded)\n",
    "    decoded = LSTM(64, activation=\"relu\", return_sequences=True)(encoded)\n",
    "    decoded = LSTM(input_dim, activation=\"sigmoid\", return_sequences=True)(decoded)\n",
    "\n",
    "    autoencoder = Model(inputs, decoded)\n",
    "    autoencoder.compile(optimizer=\"adam\", loss=\"mse\")\n",
    "    return autoencoder\n",
    "\n",
    "input_dim = None  \n",
    "autoencoder = None"
   ]
  },
  {
   "cell_type": "code",
   "execution_count": 6,
   "metadata": {},
   "outputs": [],
   "source": [
    "seq_length = 100\n",
    "batch_size = 64\n",
    "epochs = 10\n",
    "partition_size = \"10MB\"\n",
    "\n",
    "for partition in train_df.repartition(partition_size=partition_size).to_delayed():\n",
    "    pandas_df = partition.compute()  \n",
    "    data = pandas_df.to_numpy()\n",
    "\n",
    "    if input_dim is None:\n",
    "        input_dim = data.shape[1]\n",
    "        autoencoder = build_autoencoder(input_dim, seq_length)\n",
    "\n",
    "    sequences = create_sequences(data, seq_length)\n",
    "\n",
    "    autoencoder.fit(sequences, sequences, epochs=epochs, batch_size=batch_size, verbose=1)\n",
    "    train_reconstructions = autoencoder.predict(sequences)\n",
    "    train_mse = np.mean(np.mean(np.square(sequences - train_reconstructions), axis=-1), axis=-1)\n",
    "    threshold = np.percentile(train_mse, 95)\n",
    "\n",
    "test_data = test_df.toPandas().to_numpy()  \n",
    "test_sequences = create_sequences(test_data, seq_length)\n",
    "\n",
    "test_reconstructions = autoencoder.predict(test_sequences)\n",
    "test_mse = np.mean(np.mean(np.square(test_sequences - test_reconstructions), axis=-1), axis=-1)\n",
    "anomalies = test_mse > threshold\n",
    "\n",
    "test_labels = test_df.select(col(\"labey\")).toPandas().values[seq_length-1:]  \n",
    "precision, recall, f1, _ = precision_recall_fscore_support(test_labels, anomalies, average=\"binary\")\n",
    "\n",
    "accuracy = accuracy_score(test_labels, anomalies)\n",
    "\n",
    "print(f\"Precision: {precision:.2f}, Recall: {recall:.2f}, F1-Score: {f1:.2f}, Accuracy: {accuracy:.2f}\")\n",
    "    "
   ]
  }
 ],
 "metadata": {
  "kernelspec": {
   "display_name": "Python 3",
   "language": "python",
   "name": "python3"
  },
  "language_info": {
   "codemirror_mode": {
    "name": "ipython",
    "version": 3
   },
   "file_extension": ".py",
   "mimetype": "text/x-python",
   "name": "python",
   "nbconvert_exporter": "python",
   "pygments_lexer": "ipython3",
   "version": "3.11.9"
  }
 },
 "nbformat": 4,
 "nbformat_minor": 2
}
