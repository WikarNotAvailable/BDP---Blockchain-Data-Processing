{
 "cells": [
  {
   "cell_type": "code",
   "execution_count": null,
   "id": "fd3088cd-4019-4734-8b43-35c029e0e0e9",
   "metadata": {},
   "outputs": [],
   "source": [
    "from sklearn.metrics import confusion_matrix, classification_report, ConfusionMatrixDisplay, recall_score, f1_score, accuracy_score\n",
    "from sklearn.ensemble import RandomForestClassifier, IsolationForest\n",
    "from sklearn.feature_selection import SelectFromModel\n",
    "from sklearn.model_selection import train_test_split\n",
    "import numpy as np\n",
    "import awswrangler as wr\n",
    "import datetime\n",
    "import joblib\n",
    "import matplotlib.pyplot as plt"
   ]
  },
  {
   "cell_type": "code",
   "execution_count": 4,
   "id": "d9eca879-05eb-4a58-857e-124b5191c4bd",
   "metadata": {},
   "outputs": [],
   "source": [
    "def feature_selection_with_random_forest(benchmark, features, label_column):\n",
    "    benchmark_data = benchmark[features]\n",
    "    label_data = benchmark[label_column].values.ravel()\n",
    "\n",
    "    X_train, X_test, y_train, y_test = train_test_split(\n",
    "        benchmark_data, \n",
    "        label_data, \n",
    "        test_size=0.2,           \n",
    "        stratify=label_data,              \n",
    "        random_state=42\n",
    "    )\n",
    "\n",
    "    rf = RandomForestClassifier(\n",
    "        n_estimators=690,\n",
    "        class_weight='balanced_subsample',  \n",
    "        random_state=69,\n",
    "        n_jobs=-1 \n",
    "    )\n",
    "    rf.fit(X_train, y_train)\n",
    "\n",
    "    sel_ = SelectFromModel(rf)\n",
    "    sel_.fit(benchmark_data, label_data)\n",
    "\n",
    "    selected_features = benchmark_data.columns[(sel_.get_support())].tolist()\n",
    "    print(f\"Selected features: {selected_features}\")\n",
    "\n",
    "    return selected_features"
   ]
  },
  {
   "cell_type": "code",
   "execution_count": 5,
   "id": "7db3e50a-78f1-4ff2-beff-608577238365",
   "metadata": {},
   "outputs": [],
   "source": [
    "def train_isolation_forest(data, model, contamination, n_estimators, max_samples):\n",
    "    if model is None:\n",
    "        model = IsolationForest(\n",
    "            n_estimators=n_estimators,\n",
    "            contamination=contamination,\n",
    "            random_state=69,\n",
    "            max_samples=max_samples,\n",
    "            warm_start=True,\n",
    "            n_jobs=-1\n",
    "        )\n",
    "        model.fit(data)\n",
    "    else:\n",
    "        model.n_estimators += 10\n",
    "        model.fit(data)\n",
    "    return model"
   ]
  },
  {
   "cell_type": "code",
   "execution_count": 6,
   "id": "fc970832-da37-4b93-a4b7-aff4532a0641",
   "metadata": {},
   "outputs": [],
   "source": [
    "def validate_model(model, test_data, selected_features, label_col):\n",
    "    X_test = test_data[selected_features].drop(label_col, axis=1)\n",
    "    y_true = test_data[label_col].map({True: -1, False: 1})\n",
    "    \n",
    "    y_pred = model.predict(X_test)\n",
    "    \n",
    "    cm = confusion_matrix(y_true, y_pred)\n",
    "    print(\"Confusion Matrix:\")\n",
    "    print(cm)\n",
    "    print(\"\\nClassification Report:\")\n",
    "    print(classification_report(y_true, y_pred))\n",
    "\n",
    "    tn, fp, fn, tp = cm.ravel()\n",
    "    specificity = tn / (tn + fp)\n",
    "    recall = recall_score(y_true, y_pred)\n",
    "    f1 = f1_score(y_true, y_pred)\n",
    "    accuracy = accuracy_score(y_true, y_pred)\n",
    "    print(f\"Specificity: {specificity}\")\n",
    "    print(f\"Recall: {recall}\")\n",
    "    print(f\"F1: {f1}\")\n",
    "    print(f\"Accuracy: {accuracy}\")\n",
    "    \n",
    "    disp = ConfusionMatrixDisplay(confusion_matrix=cm, display_labels=[\"Anomaly\", \"Normal\"])\n",
    "\n",
    "    plt.figure(figsize=(6, 6))\n",
    "    disp.plot(cmap=\"Blues\", colorbar=True)\n",
    "    plt.title(\"Confusion Matrix\")\n",
    "    plt.show()"
   ]
  },
  {
   "cell_type": "code",
   "execution_count": 7,
   "id": "2aaf2ab7-b25e-44b6-8814-b9a9bfcc3a3b",
   "metadata": {},
   "outputs": [],
   "source": [
    "def save_model_to_bucket(model, bucket_path):\n",
    "    today_str = datetime.datetime.now().strftime(\"%Y%m%d_%H%M%S\")\n",
    "    model_name = f\"isolation_forest_{today_str}\"\n",
    "    \n",
    "    joblib.dump(model, f\"{model_name}.joblib\")\n",
    "    \n",
    "    wr.s3.upload(\n",
    "        local_file=f\"{model_name}.joblib\",\n",
    "        path=f\"{bucket_path}{model_name}.joblib\"\n",
    "    )"
   ]
  },
  {
   "cell_type": "code",
   "execution_count": 8,
   "id": "d49eb956-2000-450e-9255-fcd3e954a901",
   "metadata": {},
   "outputs": [],
   "source": [
    "label_column_name = \"label\"\n",
    "database_name = \"bdp\"\n",
    "features_table_name = \"unscaled_features\"\n",
    "benchmark_data_bucket_path = \"s3://bdp-test-data/unscaled/\"\n",
    "athena_results_bucket_path = \"s3://bdp-athena-results/\"\n",
    "models_bucket_path = \"s3://bdp-models/isolation-forest/\""
   ]
  },
  {
   "cell_type": "code",
   "execution_count": 9,
   "id": "36ab8a37-48b2-49f3-9d09-73723af86a34",
   "metadata": {},
   "outputs": [
    {
     "name": "stdout",
     "output_type": "stream",
     "text": [
      "Features: ['block_timestamp', 'block_number', 'transaction_index', 'total_transferred_value', 'fee', 'received_value', 'sent_value', 'total_input_value', 'avg_sent_value', 'avg_total_value_for_sender', 'sum_sent_value', 'sum_total_value_for_sender', 'min_sent_value', 'min_total_value_for_sender', 'max_sent_value', 'max_total_value_for_sender', 'median_sent_value', 'median_total_value_for_sender', 'mode_sent_value', 'mode_total_value_for_sender', 'stddev_sent_value', 'stddev_total_value_for_sender', 'num_sent_transactions', 'avg_time_between_sent_transactions', 'avg_outgoing_speed_count', 'avg_outgoing_speed_value', 'avg_outgoing_acceleration_count', 'avg_outgoing_acceleration_value', 'unique_out_degree', 'activity_duration_for_sender', 'first_transaction_timestamp_for_sender', 'last_transaction_timestamp_for_sender', 'avg_received_value', 'avg_total_value_for_receiver', 'sum_received_value', 'sum_total_value_for_receiver', 'min_received_value', 'min_total_value_for_receiver', 'max_received_value', 'max_total_value_for_receiver', 'median_received_value', 'median_total_value_for_receiver', 'mode_received_value', 'mode_total_value_for_receiver', 'stddev_received_value', 'stddev_total_value_for_receiver', 'num_received_transactions', 'avg_time_between_received_transactions', 'avg_incoming_speed_count', 'avg_incoming_speed_value', 'avg_incoming_acceleration_count', 'avg_incoming_acceleration_value', 'unique_in_degree', 'avg_fee_paid', 'total_fee_paid', 'min_fee_paid', 'max_fee_paid', 'activity_duration_for_receiver', 'first_transaction_timestamp_for_receiver', 'last_transaction_timestamp_for_receiver']\n",
      "Selected features: ['block_timestamp', 'block_number', 'first_transaction_timestamp_for_sender', 'min_received_value', 'min_total_value_for_receiver', 'median_received_value', 'median_total_value_for_receiver', 'stddev_received_value', 'stddev_total_value_for_receiver', 'num_received_transactions', 'avg_time_between_received_transactions', 'unique_in_degree', 'min_fee_paid', 'activity_duration_for_receiver', 'first_transaction_timestamp_for_receiver', 'last_transaction_timestamp_for_receiver']\n",
      "Selected features: ['block_timestamp', 'block_number', 'first_transaction_timestamp_for_sender', 'min_received_value', 'min_total_value_for_receiver', 'median_received_value', 'median_total_value_for_receiver', 'stddev_received_value', 'stddev_total_value_for_receiver', 'num_received_transactions', 'avg_time_between_received_transactions', 'unique_in_degree', 'min_fee_paid', 'activity_duration_for_receiver', 'first_transaction_timestamp_for_receiver', 'last_transaction_timestamp_for_receiver']\n"
     ]
    }
   ],
   "source": [
    "benchmark = wr.s3.read_parquet(\n",
    "    path=f\"{benchmark_data_bucket_path}\"\n",
    ")\n",
    "features = benchmark.select_dtypes(include=[np.number]).columns.tolist()\n",
    "print(f\"Features: {features}\")\n",
    "selected_features = feature_selection_with_random_forest(benchmark, features, label_column_name)\n",
    "print(f\"Selected features: {selected_features}\")"
   ]
  },
  {
   "cell_type": "code",
   "execution_count": 10,
   "id": "c6f87bda-59fe-4cc7-9a8b-c2922becfec9",
   "metadata": {
    "scrolled": true
   },
   "outputs": [],
   "source": [
    "columns_str = \", \".join(selected_features)\n",
    "\n",
    "sql_query = f\"\"\"\n",
    "SELECT {columns_str}\n",
    "FROM {database_name}.{features_table_name}\n",
    "LIMIT 30000000\n",
    "\"\"\"\n",
    "\n",
    "features_data = wr.athena.read_sql_query(\n",
    "    database=database_name,\n",
    "    sql=sql_query,\n",
    "    s3_output=athena_results_bucket_path,\n",
    "    ctas_approach=True\n",
    ")\n",
    "\n",
    "#df_iterator = wr.athena.read_sql_query(\n",
    "#    database=database_name,\n",
    "#    sql=sql_query,\n",
    "#    s3_output=athena_results_bucket_path,\n",
    "#    chunksize=10_000_000,\n",
    "#    ctas_approach=True\n",
    "#)"
   ]
  },
  {
   "cell_type": "code",
   "execution_count": 11,
   "id": "1c6e771a-b70b-4db9-8634-ca86bb5de3e6",
   "metadata": {},
   "outputs": [],
   "source": [
    "model = None\n",
    "#for i, chunk_df in enumerate(df_iterator):\n",
    "    #print(f\"Przetwarzam chunk {i}, wierszy = {len(chunk_df)}\")\n",
    "model = train_isolation_forest(features_data, model, contamination=0.0069, n_estimators=690, max_samples=69000)"
   ]
  },
  {
   "cell_type": "code",
   "execution_count": 12,
   "id": "cd2ae3da-e749-4dca-9fc5-fc94f8d980cd",
   "metadata": {},
   "outputs": [
    {
     "name": "stdout",
     "output_type": "stream",
     "text": [
      "Confusion Matrix:\n",
      "[[11772  2262]\n",
      " [17927 32775]]\n",
      "\n",
      "Classification Report:\n",
      "              precision    recall  f1-score   support\n",
      "\n",
      "          -1       0.40      0.84      0.54     14034\n",
      "           1       0.94      0.65      0.76     50702\n",
      "\n",
      "    accuracy                           0.69     64736\n",
      "   macro avg       0.67      0.74      0.65     64736\n",
      "weighted avg       0.82      0.69      0.72     64736\n",
      "\n"
     ]
    },
    {
     "data": {
      "text/plain": [
       "<Figure size 600x600 with 0 Axes>"
      ]
     },
     "metadata": {},
     "output_type": "display_data"
    },
    {
     "data": {
      "image/png": "[encoded data removed]",
      "text/plain": [
       "<Figure size 640x480 with 2 Axes>"
      ]
     },
     "metadata": {},
     "output_type": "display_data"
    }
   ],
   "source": [
    "selected_features_with_label = selected_features.copy()\n",
    "selected_features_with_label.append(label_column_name)\n",
    "validate_model(model, benchmark, selected_features_with_label, label_column_name)\n",
    "save_model_to_bucket(model, models_bucket_path)\n"
   ]
  },
  {
   "cell_type": "code",
   "execution_count": null,
   "id": "8ae0071f-6119-4514-9a65-6af768605291",
   "metadata": {},
   "outputs": [],
   "source": []
  }
 ],
 "metadata": {
  "kernelspec": {
   "display_name": "conda_python3",
   "language": "python",
   "name": "conda_python3"
  },
  "language_info": {
   "codemirror_mode": {
    "name": "ipython",
    "version": 3
   },
   "file_extension": ".py",
   "mimetype": "text/x-python",
   "name": "python",
   "nbconvert_exporter": "python",
   "pygments_lexer": "ipython3",
   "version": "3.10.16"
  }
 },
 "nbformat": 4,
 "nbformat_minor": 5
}
